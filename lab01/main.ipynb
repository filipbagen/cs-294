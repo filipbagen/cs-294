{
 "cells": [
  {
   "cell_type": "code",
   "execution_count": 1,
   "metadata": {},
   "outputs": [],
   "source": [
    "from typing import Dict, List\n",
    "from autogen import ConversableAgent\n",
    "import sys\n",
    "import os\n",
    "\n",
    "from main import fetch_restaurant_data\n",
    "from main import calculate_overall_score"
   ]
  },
  {
   "cell_type": "code",
   "execution_count": null,
   "metadata": {},
   "outputs": [],
   "source": [
    "def get_data_fetch_agent_prompt(restaurant_query: str) -> str:\n",
    "    # TODO\n",
    "    # It may help to organize messages/prompts within a function which returns a string.\n",
    "    # For example, you could use this function to return a prompt for the data fetch agent\n",
    "    # to use to fetch reviews for a specific restaurant.\n",
    "    pass\n",
    "\n",
    "# TODO: feel free to write as many additional functions as you'd like.\n",
    "\n",
    "# Do not modify the signature of the \"main\" function.\n",
    "\n",
    "\n",
    "def main(user_query: str):\n",
    "    entrypoint_agent_system_message = \"\"  # TODO\n",
    "    # example LLM config for the entrypoint agent\n",
    "    llm_config = {\"config_list\": [\n",
    "        {\"model\": \"gpt-4o-mini\", \"api_key\": os.environ.get(\"OPENAI_API_KEY\")}]}\n",
    "    # the main entrypoint/supervisor agent\n",
    "    entrypoint_agent = ConversableAgent(\"entrypoint_agent\",\n",
    "                                        system_message=entrypoint_agent_system_message,\n",
    "                                        llm_config=llm_config)\n",
    "    entrypoint_agent.register_for_llm(\n",
    "        name=\"fetch_restaurant_data\", description=\"Fetches the reviews for a specific restaurant.\")(fetch_restaurant_data)\n",
    "    entrypoint_agent.register_for_execution(\n",
    "        name=\"fetch_restaurant_data\")(fetch_restaurant_data)\n",
    "\n",
    "    # TODO\n",
    "    # Create more agents here.\n",
    "\n",
    "    # TODO\n",
    "    # Fill in the argument to `initiate_chats` below, calling the correct agents sequentially.\n",
    "    # If you decide to use another conversation pattern, feel free to disregard this code.\n",
    "\n",
    "    # Uncomment once you initiate the chat with at least one agent.\n",
    "    # result = entrypoint_agent.initiate_chats([{}])\n",
    "\n",
    "\n",
    "# DO NOT modify this code below.\n",
    "if __name__ == \"__main__\":\n",
    "    assert len(\n",
    "        sys.argv) > 1, \"Please ensure you include a query for some restaurant when executing main.\"\n",
    "    main(sys.argv[1])"
   ]
  },
  {
   "cell_type": "code",
   "execution_count": null,
   "metadata": {
    "vscode": {
     "languageId": "javascript"
    }
   },
   "outputs": [],
   "source": [
    "import OpenAI from \"openai\";\n",
    "\n",
    "const openai = new OpenAI();\n",
    "\n",
    "const completion = await openai.chat.completions.create({\n",
    "    model: \"gpt-4o-mini\",\n",
    "    messages: [\n",
    "        { role: \"system\", content: \"You are a helpful assistant.\" },\n",
    "        {\n",
    "            role: \"user\",\n",
    "            content: \"Write a haiku about recursion in programming.\",\n",
    "        },\n",
    "    ],\n",
    "});\n",
    "\n",
    "console.log(completion.choices[0].message);"
   ]
  }
 ],
 "metadata": {
  "kernelspec": {
   "display_name": "cs-294-env",
   "language": "python",
   "name": "python3"
  },
  "language_info": {
   "codemirror_mode": {
    "name": "ipython",
    "version": 3
   },
   "file_extension": ".py",
   "mimetype": "text/x-python",
   "name": "python",
   "nbconvert_exporter": "python",
   "pygments_lexer": "ipython3",
   "version": "3.12.4"
  }
 },
 "nbformat": 4,
 "nbformat_minor": 2
}
